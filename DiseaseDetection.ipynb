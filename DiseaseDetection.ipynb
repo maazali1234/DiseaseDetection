{
 "cells": [
  {
   "cell_type": "code",
   "execution_count": 1,
   "id": "d388b31e-a593-4999-bb71-dff7ff275679",
   "metadata": {},
   "outputs": [
    {
     "name": "stdin",
     "output_type": "stream",
     "text": [
      "Enter symptoms (comma-separated):  Fever, Cough, Chest Pain\n",
      "Enter test results (comma-separated):  High TLC, High Neutrophils, High ESR, X-ray shows infection\n"
     ]
    },
    {
     "name": "stdout",
     "output_type": "stream",
     "text": [
      "\n",
      "Detected Disease: Pneumonia\n",
      "Suggested Treatment: Antibiotics\n"
     ]
    }
   ],
   "source": [
    "def find_disease(symptom_list, test_list):\n",
    "    \n",
    "    # Disease database\n",
    "    illnesses = {\n",
    "        \"Appendicitis\": {\n",
    "            \"symptoms\": {\"Fever\", \"Stomach Pain\", \"Vomiting\"},\n",
    "            \"tests\": {\"High TLC\", \"High Neutrophils\", \"High ESR\"},\n",
    "            \"treatment\": \"Surgery\"\n",
    "        },\n",
    "        \"Pneumonia\": {\n",
    "            \"symptoms\": {\"Fever\", \"Cough\", \"Chest Pain\"},\n",
    "            \"tests\": {\"High TLC\", \"High Neutrophils\", \"High ESR\", \"X-ray shows infection\"},\n",
    "            \"treatment\": \"Antibiotics\"\n",
    "        },\n",
    "        \"Tonsillitis\": {\n",
    "            \"symptoms\": {\"Fever\", \"Cough\"},\n",
    "            \"tests\": {\"Swollen Tonsils\", \"Pus on Tonsils\"},\n",
    "            \"treatment\": \"Anti-allergy + Paracetamol\\nIf not better: Take oral antibiotics\\nIf still not better: Use IV antibiotics\"\n",
    "        }\n",
    "    }\n",
    "\n",
    "    # Convert inputs to sets\n",
    "    symptom_set = set(symptom_list)\n",
    "    test_set = set(test_list)\n",
    "\n",
    "    # Check for a matching illness\n",
    "    for illness, info in illnesses.items():\n",
    "        if info[\"symptoms\"].issubset(symptom_set) and info[\"tests\"].issubset(test_set):\n",
    "            return illness, info[\"treatment\"]\n",
    "\n",
    "    return \"Unknown\", \"See a doctor for further check-up.\"\n",
    "\n",
    "\n",
    "# Get input from user\n",
    "user_symptoms = input(\"Enter symptoms (comma-separated): \").strip().split(\", \")\n",
    "user_tests = input(\"Enter test results (comma-separated): \").strip().split(\", \")\n",
    "\n",
    "# Find the disease\n",
    "disease, treatment = find_disease(user_symptoms, user_tests)\n",
    "\n",
    "# Show results\n",
    "print(\"\\nDetected Disease:\", disease)\n",
    "print(\"Suggested Treatment:\", treatment)\n"
   ]
  },
  {
   "cell_type": "code",
   "execution_count": null,
   "id": "1bd66008-d23b-4179-8504-5b6708c225df",
   "metadata": {},
   "outputs": [],
   "source": []
  }
 ],
 "metadata": {
  "kernelspec": {
   "display_name": "Python [conda env:base] *",
   "language": "python",
   "name": "conda-base-py"
  },
  "language_info": {
   "codemirror_mode": {
    "name": "ipython",
    "version": 3
   },
   "file_extension": ".py",
   "mimetype": "text/x-python",
   "name": "python",
   "nbconvert_exporter": "python",
   "pygments_lexer": "ipython3",
   "version": "3.12.7"
  }
 },
 "nbformat": 4,
 "nbformat_minor": 5
}
